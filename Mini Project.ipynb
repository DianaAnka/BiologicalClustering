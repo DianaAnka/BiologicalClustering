{
 "cells": [
  {
   "cell_type": "markdown",
   "metadata": {},
   "source": [
    "# Biological Data Clustering"
   ]
  },
  {
   "cell_type": "code",
   "execution_count": 1,
   "metadata": {},
   "outputs": [],
   "source": [
    "from sklearn.decomposition import PCA ,IncrementalPCA,KernelPCA\n",
    "from sklearn.preprocessing import StandardScaler\n",
    "import matplotlib.pyplot as plt \n",
    "import numpy as np \n",
    "import pandas as pd \n",
    "from matplotlib.colors import LogNorm\n",
    "from sklearn.mixture import GaussianMixture as GMM\n",
    "from sklearn.preprocessing import LabelEncoder\n",
    "from sklearn.metrics import silhouette_samples, silhouette_score"
   ]
  },
  {
   "cell_type": "code",
   "execution_count": 2,
   "metadata": {},
   "outputs": [],
   "source": [
    "df = pd.read_csv('Leukemia_GSE9476.csv')"
   ]
  },
  {
   "cell_type": "code",
   "execution_count": 3,
   "metadata": {
    "scrolled": true
   },
   "outputs": [
    {
     "data": {
      "text/html": [
       "<div>\n",
       "<style scoped>\n",
       "    .dataframe tbody tr th:only-of-type {\n",
       "        vertical-align: middle;\n",
       "    }\n",
       "\n",
       "    .dataframe tbody tr th {\n",
       "        vertical-align: top;\n",
       "    }\n",
       "\n",
       "    .dataframe thead th {\n",
       "        text-align: right;\n",
       "    }\n",
       "</style>\n",
       "<table border=\"1\" class=\"dataframe\">\n",
       "  <thead>\n",
       "    <tr style=\"text-align: right;\">\n",
       "      <th></th>\n",
       "      <th>samples</th>\n",
       "      <th>type</th>\n",
       "      <th>1007_s_at</th>\n",
       "      <th>1053_at</th>\n",
       "      <th>117_at</th>\n",
       "      <th>121_at</th>\n",
       "      <th>1255_g_at</th>\n",
       "      <th>1294_at</th>\n",
       "      <th>1316_at</th>\n",
       "      <th>1320_at</th>\n",
       "      <th>...</th>\n",
       "      <th>AFFX-r2-Hs28SrRNA-5_at</th>\n",
       "      <th>AFFX-r2-Hs28SrRNA-M_at</th>\n",
       "      <th>AFFX-r2-P1-cre-3_at</th>\n",
       "      <th>AFFX-r2-P1-cre-5_at</th>\n",
       "      <th>AFFX-ThrX-3_at</th>\n",
       "      <th>AFFX-ThrX-5_at</th>\n",
       "      <th>AFFX-ThrX-M_at</th>\n",
       "      <th>AFFX-TrpnX-3_at</th>\n",
       "      <th>AFFX-TrpnX-5_at</th>\n",
       "      <th>AFFX-TrpnX-M_at</th>\n",
       "    </tr>\n",
       "  </thead>\n",
       "  <tbody>\n",
       "    <tr>\n",
       "      <th>0</th>\n",
       "      <td>1</td>\n",
       "      <td>2</td>\n",
       "      <td>7.745245</td>\n",
       "      <td>7.811210</td>\n",
       "      <td>6.477916</td>\n",
       "      <td>8.841506</td>\n",
       "      <td>4.546941</td>\n",
       "      <td>7.957714</td>\n",
       "      <td>5.344999</td>\n",
       "      <td>4.673364</td>\n",
       "      <td>...</td>\n",
       "      <td>5.058849</td>\n",
       "      <td>6.810004</td>\n",
       "      <td>12.800060</td>\n",
       "      <td>12.718612</td>\n",
       "      <td>5.391512</td>\n",
       "      <td>4.666166</td>\n",
       "      <td>3.974759</td>\n",
       "      <td>3.656693</td>\n",
       "      <td>4.160622</td>\n",
       "      <td>4.139249</td>\n",
       "    </tr>\n",
       "    <tr>\n",
       "      <th>1</th>\n",
       "      <td>12</td>\n",
       "      <td>2</td>\n",
       "      <td>8.087252</td>\n",
       "      <td>7.240673</td>\n",
       "      <td>8.584648</td>\n",
       "      <td>8.983571</td>\n",
       "      <td>4.548934</td>\n",
       "      <td>8.011652</td>\n",
       "      <td>5.579647</td>\n",
       "      <td>4.828184</td>\n",
       "      <td>...</td>\n",
       "      <td>4.436153</td>\n",
       "      <td>6.751471</td>\n",
       "      <td>12.472706</td>\n",
       "      <td>12.333593</td>\n",
       "      <td>5.379738</td>\n",
       "      <td>4.656786</td>\n",
       "      <td>4.188348</td>\n",
       "      <td>3.792535</td>\n",
       "      <td>4.204414</td>\n",
       "      <td>4.122700</td>\n",
       "    </tr>\n",
       "    <tr>\n",
       "      <th>2</th>\n",
       "      <td>13</td>\n",
       "      <td>2</td>\n",
       "      <td>7.792056</td>\n",
       "      <td>7.549368</td>\n",
       "      <td>11.053504</td>\n",
       "      <td>8.909703</td>\n",
       "      <td>4.549328</td>\n",
       "      <td>8.237099</td>\n",
       "      <td>5.406489</td>\n",
       "      <td>4.615572</td>\n",
       "      <td>...</td>\n",
       "      <td>4.392061</td>\n",
       "      <td>6.086295</td>\n",
       "      <td>12.637384</td>\n",
       "      <td>12.499038</td>\n",
       "      <td>5.316604</td>\n",
       "      <td>4.600566</td>\n",
       "      <td>3.845561</td>\n",
       "      <td>3.635715</td>\n",
       "      <td>4.174199</td>\n",
       "      <td>4.067152</td>\n",
       "    </tr>\n",
       "    <tr>\n",
       "      <th>3</th>\n",
       "      <td>14</td>\n",
       "      <td>2</td>\n",
       "      <td>7.767265</td>\n",
       "      <td>7.094460</td>\n",
       "      <td>11.816433</td>\n",
       "      <td>8.994654</td>\n",
       "      <td>4.697018</td>\n",
       "      <td>8.283412</td>\n",
       "      <td>5.582195</td>\n",
       "      <td>4.903684</td>\n",
       "      <td>...</td>\n",
       "      <td>4.633334</td>\n",
       "      <td>6.375991</td>\n",
       "      <td>12.903630</td>\n",
       "      <td>12.871454</td>\n",
       "      <td>5.179951</td>\n",
       "      <td>4.641952</td>\n",
       "      <td>3.991634</td>\n",
       "      <td>3.704587</td>\n",
       "      <td>4.149938</td>\n",
       "      <td>3.910150</td>\n",
       "    </tr>\n",
       "    <tr>\n",
       "      <th>4</th>\n",
       "      <td>15</td>\n",
       "      <td>2</td>\n",
       "      <td>8.010117</td>\n",
       "      <td>7.405281</td>\n",
       "      <td>6.656049</td>\n",
       "      <td>9.050682</td>\n",
       "      <td>4.514986</td>\n",
       "      <td>8.377046</td>\n",
       "      <td>5.493713</td>\n",
       "      <td>4.860754</td>\n",
       "      <td>...</td>\n",
       "      <td>5.305192</td>\n",
       "      <td>6.700453</td>\n",
       "      <td>12.949352</td>\n",
       "      <td>12.782515</td>\n",
       "      <td>5.341689</td>\n",
       "      <td>4.560315</td>\n",
       "      <td>3.887020</td>\n",
       "      <td>3.629853</td>\n",
       "      <td>4.127513</td>\n",
       "      <td>4.004316</td>\n",
       "    </tr>\n",
       "  </tbody>\n",
       "</table>\n",
       "<p>5 rows × 22285 columns</p>\n",
       "</div>"
      ],
      "text/plain": [
       "   samples  type  1007_s_at   1053_at     117_at    121_at  1255_g_at  \\\n",
       "0        1     2   7.745245  7.811210   6.477916  8.841506   4.546941   \n",
       "1       12     2   8.087252  7.240673   8.584648  8.983571   4.548934   \n",
       "2       13     2   7.792056  7.549368  11.053504  8.909703   4.549328   \n",
       "3       14     2   7.767265  7.094460  11.816433  8.994654   4.697018   \n",
       "4       15     2   8.010117  7.405281   6.656049  9.050682   4.514986   \n",
       "\n",
       "    1294_at   1316_at   1320_at       ...         AFFX-r2-Hs28SrRNA-5_at  \\\n",
       "0  7.957714  5.344999  4.673364       ...                       5.058849   \n",
       "1  8.011652  5.579647  4.828184       ...                       4.436153   \n",
       "2  8.237099  5.406489  4.615572       ...                       4.392061   \n",
       "3  8.283412  5.582195  4.903684       ...                       4.633334   \n",
       "4  8.377046  5.493713  4.860754       ...                       5.305192   \n",
       "\n",
       "   AFFX-r2-Hs28SrRNA-M_at  AFFX-r2-P1-cre-3_at  AFFX-r2-P1-cre-5_at  \\\n",
       "0                6.810004            12.800060            12.718612   \n",
       "1                6.751471            12.472706            12.333593   \n",
       "2                6.086295            12.637384            12.499038   \n",
       "3                6.375991            12.903630            12.871454   \n",
       "4                6.700453            12.949352            12.782515   \n",
       "\n",
       "   AFFX-ThrX-3_at  AFFX-ThrX-5_at  AFFX-ThrX-M_at  AFFX-TrpnX-3_at  \\\n",
       "0        5.391512        4.666166        3.974759         3.656693   \n",
       "1        5.379738        4.656786        4.188348         3.792535   \n",
       "2        5.316604        4.600566        3.845561         3.635715   \n",
       "3        5.179951        4.641952        3.991634         3.704587   \n",
       "4        5.341689        4.560315        3.887020         3.629853   \n",
       "\n",
       "   AFFX-TrpnX-5_at  AFFX-TrpnX-M_at  \n",
       "0         4.160622         4.139249  \n",
       "1         4.204414         4.122700  \n",
       "2         4.174199         4.067152  \n",
       "3         4.149938         3.910150  \n",
       "4         4.127513         4.004316  \n",
       "\n",
       "[5 rows x 22285 columns]"
      ]
     },
     "execution_count": 3,
     "metadata": {},
     "output_type": "execute_result"
    }
   ],
   "source": [
    "le = LabelEncoder()\n",
    "df['type'] = le.fit_transform(df['type'])\n",
    "df.head()"
   ]
  },
  {
   "cell_type": "markdown",
   "metadata": {},
   "source": [
    "## Preparing The Data"
   ]
  },
  {
   "cell_type": "markdown",
   "metadata": {},
   "source": [
    "### Standardize features"
   ]
  },
  {
   "cell_type": "code",
   "execution_count": 4,
   "metadata": {},
   "outputs": [
    {
     "data": {
      "text/plain": [
       "(64, 22285)"
      ]
     },
     "execution_count": 4,
     "metadata": {},
     "output_type": "execute_result"
    }
   ],
   "source": [
    "df =  StandardScaler().fit_transform(df) \n",
    "df.shape"
   ]
  },
  {
   "cell_type": "markdown",
   "metadata": {},
   "source": [
    "### Incremental principal components analysis"
   ]
  },
  {
   "cell_type": "code",
   "execution_count": 5,
   "metadata": {},
   "outputs": [
    {
     "data": {
      "text/plain": [
       "(64, 64)"
      ]
     },
     "execution_count": 5,
     "metadata": {},
     "output_type": "execute_result"
    }
   ],
   "source": [
    "pca = IncrementalPCA() \n",
    "df = pca.fit_transform(df) \n",
    "df.shape"
   ]
  },
  {
   "cell_type": "markdown",
   "metadata": {},
   "source": [
    "## Building GMM "
   ]
  },
  {
   "cell_type": "code",
   "execution_count": 6,
   "metadata": {
    "scrolled": true
   },
   "outputs": [
    {
     "data": {
      "text/plain": [
       "GaussianMixture(covariance_type='full', init_params='kmeans', max_iter=100,\n",
       "        means_init=None, n_components=5, n_init=1, precisions_init=None,\n",
       "        random_state=None, reg_covar=1e-06, tol=0.001, verbose=0,\n",
       "        verbose_interval=10, warm_start=False, weights_init=None)"
      ]
     },
     "execution_count": 6,
     "metadata": {},
     "output_type": "execute_result"
    }
   ],
   "source": [
    "mdl = GMM(n_components=5)\n",
    "mdl.fit(df)"
   ]
  },
  {
   "cell_type": "code",
   "execution_count": 7,
   "metadata": {
    "scrolled": true
   },
   "outputs": [
    {
     "data": {
      "image/png": "[encoded data removed]",
      "text/plain": [
       "<Figure size 432x288 with 1 Axes>"
      ]
     },
     "metadata": {
      "needs_background": "light"
     },
     "output_type": "display_data"
    }
   ],
   "source": [
    "labels = mdl.predict(df)\n",
    "plt.scatter(df[0], df[1], c=labels, s=60, cmap='viridis');"
   ]
  },
  {
   "cell_type": "markdown",
   "metadata": {},
   "source": [
    "## Validation with Silhoutte Score"
   ]
  },
  {
   "cell_type": "code",
   "execution_count": 8,
   "metadata": {},
   "outputs": [
    {
     "name": "stdout",
     "output_type": "stream",
     "text": [
      "0.11240836665407213\n"
     ]
    }
   ],
   "source": [
    "silhouette_avg = silhouette_score(df, labels)\n",
    "print(silhouette_avg)"
   ]
  },
  {
   "cell_type": "code",
   "execution_count": 9,
   "metadata": {},
   "outputs": [
    {
     "name": "stdout",
     "output_type": "stream",
     "text": [
      "[ 0.1132137   0.14799685  0.17183996  0.16133398  0.13515761  0.13982217\n",
      "  0.11779669  0.13707802  0.06511293  0.17935599  0.17271636  0.16706155\n",
      "  0.08754296  0.14975805  0.11022591  0.10908798  0.17022097  0.16537533\n",
      " -0.03009207  0.07643253  0.03695021  0.04079492  0.01067434  0.16478251\n",
      "  0.          0.02180125  0.10927256  0.18210778  0.08463671 -0.0352762\n",
      "  0.07493937  0.03818166 -0.04911403  0.06667476 -0.04583866  0.10557564\n",
      "  0.17560264  0.08595752  0.05038844  0.08248368 -0.03414767  0.0468759\n",
      "  0.06293413 -0.05401557  0.26185073  0.21453709  0.11659788  0.08657699\n",
      "  0.10852633  0.21924098  0.1591168   0.07344668  0.19262107  0.25111288\n",
      "  0.18327718  0.19622131  0.17534538  0.0979472   0.1869507   0.16295525\n",
      "  0.16133649  0.20315191  0.20233271  0.17171055]\n"
     ]
    }
   ],
   "source": [
    "sample_silhouette_values = silhouette_samples(df,labels)\n",
    "print(sample_silhouette_values)"
   ]
  }
 ],
 "metadata": {
  "kernelspec": {
   "display_name": "Python 3",
   "language": "python",
   "name": "python3"
  },
  "language_info": {
   "codemirror_mode": {
    "name": "ipython",
    "version": 3
   },
   "file_extension": ".py",
   "mimetype": "text/x-python",
   "name": "python",
   "nbconvert_exporter": "python",
   "pygments_lexer": "ipython3",
   "version": "3.7.0"
  }
 },
 "nbformat": 4,
 "nbformat_minor": 2
}
